{
 "cells": [
  {
   "cell_type": "code",
   "execution_count": 26,
   "id": "88b154cc-b787-42b6-928e-1ee98447dfa5",
   "metadata": {},
   "outputs": [
    {
     "ename": "SyntaxError",
     "evalue": "invalid syntax (1175045426.py, line 1)",
     "output_type": "error",
     "traceback": [
      "\u001b[1;36m  Cell \u001b[1;32mIn[26], line 1\u001b[1;36m\u001b[0m\n\u001b[1;33m    Introduction to number:\u001b[0m\n\u001b[1;37m                 ^\u001b[0m\n\u001b[1;31mSyntaxError\u001b[0m\u001b[1;31m:\u001b[0m invalid syntax\n"
     ]
    }
   ],
   "source": [
    "Introduction to number:"
   ]
  },
  {
   "cell_type": "code",
   "execution_count": 12,
   "id": "f056e261-2cba-45ad-8634-c213f5bac226",
   "metadata": {},
   "outputs": [
    {
     "name": "stdout",
     "output_type": "stream",
     "text": [
      "123\n"
     ]
    }
   ],
   "source": [
    "number=123\n",
    "print(number)"
   ]
  },
  {
   "cell_type": "code",
   "execution_count": 13,
   "id": "9d392175-3ed4-4fec-802c-e4c8520471c7",
   "metadata": {},
   "outputs": [
    {
     "data": {
      "text/plain": [
       "int"
      ]
     },
     "execution_count": 13,
     "metadata": {},
     "output_type": "execute_result"
    }
   ],
   "source": [
    "type(number)"
   ]
  },
  {
   "cell_type": "code",
   "execution_count": 14,
   "id": "dd974f9b-e05b-4533-911f-d895b044f214",
   "metadata": {},
   "outputs": [
    {
     "name": "stdout",
     "output_type": "stream",
     "text": [
      "0.1\n"
     ]
    }
   ],
   "source": [
    "num2=0.1\n",
    "print(num2)"
   ]
  },
  {
   "cell_type": "code",
   "execution_count": 15,
   "id": "566b02fd-74b7-4268-bdee-a2fd3ff522f7",
   "metadata": {},
   "outputs": [
    {
     "data": {
      "text/plain": [
       "float"
      ]
     },
     "execution_count": 15,
     "metadata": {},
     "output_type": "execute_result"
    }
   ],
   "source": [
    "type(num2)"
   ]
  },
  {
   "cell_type": "code",
   "execution_count": 25,
   "id": "ee4d522a-e771-4abd-aadb-b3e8c17a433a",
   "metadata": {},
   "outputs": [
    {
     "ename": "SyntaxError",
     "evalue": "invalid syntax (4120961759.py, line 1)",
     "output_type": "error",
     "traceback": [
      "\u001b[1;36m  Cell \u001b[1;32mIn[25], line 1\u001b[1;36m\u001b[0m\n\u001b[1;33m    introduction: to list datatype:\u001b[0m\n\u001b[1;37m                     ^\u001b[0m\n\u001b[1;31mSyntaxError\u001b[0m\u001b[1;31m:\u001b[0m invalid syntax\n"
     ]
    }
   ],
   "source": [
    "introduction: to list datatype:\n",
    " Defination: A list is a collection of items defined in a particular order.\n",
    "classification: It is classified as mutable datatype (wich we can edit/alter)\n",
    "How to define the list datatype :[] #squre brackets."
   ]
  },
  {
   "cell_type": "code",
   "execution_count": 36,
   "id": "c44dfd5a-4f24-4226-bd58-3b9503412975",
   "metadata": {},
   "outputs": [
    {
     "name": "stdout",
     "output_type": "stream",
     "text": [
      "['arpita', 'ashwini', 'asma', 'bhavan', 'david', 'kartik']\n"
     ]
    }
   ],
   "source": [
    "students=['arpita','ashwini','asma','bhavan','david','kartik']\n",
    "print(students)\n",
    "            "
   ]
  },
  {
   "cell_type": "code",
   "execution_count": 37,
   "id": "cd788640-3cf6-41fa-aae6-3721ee8547ef",
   "metadata": {},
   "outputs": [
    {
     "data": {
      "text/plain": [
       "list"
      ]
     },
     "execution_count": 37,
     "metadata": {},
     "output_type": "execute_result"
    }
   ],
   "source": [
    " type(students)"
   ]
  },
  {
   "cell_type": "code",
   "execution_count": 24,
   "id": "20e6abe7-2d42-4dca-b3a4-a00c00260cc2",
   "metadata": {},
   "outputs": [
    {
     "ename": "SyntaxError",
     "evalue": "invalid syntax (4019442302.py, line 1)",
     "output_type": "error",
     "traceback": [
      "\u001b[1;36m  Cell \u001b[1;32mIn[24], line 1\u001b[1;36m\u001b[0m\n\u001b[1;33m    introduction to indexing:0,1,2,3,4,5,6...............\u001b[0m\n\u001b[1;37m                 ^\u001b[0m\n\u001b[1;31mSyntaxError\u001b[0m\u001b[1;31m:\u001b[0m invalid syntax\n"
     ]
    }
   ],
   "source": [
    "introduction to indexing:0,1,2,3,4,5,6..............."
   ]
  },
  {
   "cell_type": "code",
   "execution_count": null,
   "id": "16a56071-f4b2-4da9-8972-d543cf81a59e",
   "metadata": {},
   "outputs": [],
   "source": []
  },
  {
   "cell_type": "code",
   "execution_count": null,
   "id": "0fc064b4-4086-40af-87bd-3e38dc55e470",
   "metadata": {},
   "outputs": [],
   "source": [
    "# req:i want to access ashwini name in output....?"
   ]
  },
  {
   "cell_type": "code",
   "execution_count": 38,
   "id": "bdaa5d2e-26b6-4e58-91f4-f1668c12b629",
   "metadata": {},
   "outputs": [
    {
     "name": "stdout",
     "output_type": "stream",
     "text": [
      "ashwini\n"
     ]
    }
   ],
   "source": [
    "print (students[1])"
   ]
  },
  {
   "cell_type": "code",
   "execution_count": 39,
   "id": "724b15fe-7e69-4693-b10d-d32c639cbc21",
   "metadata": {},
   "outputs": [
    {
     "name": "stdout",
     "output_type": "stream",
     "text": [
      "Ashwini\n"
     ]
    }
   ],
   "source": [
    "print(students[1].title())"
   ]
  },
  {
   "cell_type": "code",
   "execution_count": null,
   "id": "1044662e-4a83-446e-bde8-651d42690416",
   "metadata": {},
   "outputs": [],
   "source": [
    "# req: i want to access bhahvan name in th op.........?"
   ]
  },
  {
   "cell_type": "code",
   "execution_count": 40,
   "id": "ef0e11de-9b4a-49f0-b4e4-2ae93ac4a2b0",
   "metadata": {},
   "outputs": [
    {
     "name": "stdout",
     "output_type": "stream",
     "text": [
      "Bhavan\n"
     ]
    }
   ],
   "source": [
    "print (students[3].title())"
   ]
  },
  {
   "cell_type": "code",
   "execution_count": null,
   "id": "523bb4c6-deff-41cb-969b-9819ad164538",
   "metadata": {},
   "outputs": [],
   "source": [
    "how to add new elements to the list\n",
    "how to modify the elements in th list\n",
    "how to delete the elements in the list."
   ]
  },
  {
   "cell_type": "code",
   "execution_count": 41,
   "id": "555862eb-6f3d-4c38-abc9-fb3105eb8092",
   "metadata": {},
   "outputs": [
    {
     "name": "stdout",
     "output_type": "stream",
     "text": [
      "['arpita', 'ashwini', 'asma', 'bhavan', 'david', 'kartik']\n"
     ]
    }
   ],
   "source": [
    "print(students)"
   ]
  },
  {
   "cell_type": "code",
   "execution_count": null,
   "id": "31d6d3b3-ac9a-4a14-89f6-9f4d0f4cc3d3",
   "metadata": {},
   "outputs": [],
   "source": [
    "# req i want to add shafi name in the abovelist..."
   ]
  },
  {
   "cell_type": "code",
   "execution_count": 42,
   "id": "e2efe466-694a-4662-a855-92f34eebecf9",
   "metadata": {},
   "outputs": [
    {
     "name": "stdout",
     "output_type": "stream",
     "text": [
      "['arpita', 'ashwini', 'asma', 'bhavan', 'david', 'kartik', 'shafi']\n"
     ]
    }
   ],
   "source": [
    "students.append('shafi')\n",
    "print(students)"
   ]
  },
  {
   "cell_type": "code",
   "execution_count": null,
   "id": "739df244-2797-4c12-a8b0-2af777d3259b",
   "metadata": {},
   "outputs": [],
   "source": [
    "# req i want to add venket to the above list."
   ]
  },
  {
   "cell_type": "code",
   "execution_count": 45,
   "id": "a314c740-2d04-491e-8d3d-1144abc21e42",
   "metadata": {},
   "outputs": [
    {
     "name": "stdout",
     "output_type": "stream",
     "text": [
      "['arpita', 'ashwini', 'asma', 'bhavan', 'david', 'kartik', 'shafi', 'venkat']\n"
     ]
    }
   ],
   "source": [
    "students.append('venkat')\n",
    "print(students)"
   ]
  },
  {
   "cell_type": "code",
   "execution_count": null,
   "id": "5acaa568-0dd7-4276-9294-fa50e33841c7",
   "metadata": {},
   "outputs": [],
   "source": [
    "# req i want to add kaleem at 2nd position."
   ]
  },
  {
   "cell_type": "code",
   "execution_count": 46,
   "id": "ca603def-169b-4785-a485-8ca363d5627a",
   "metadata": {},
   "outputs": [
    {
     "name": "stdout",
     "output_type": "stream",
     "text": [
      "['arpita', 'ashwini', 'kaleem', 'asma', 'bhavan', 'david', 'kartik', 'shafi', 'venkat']\n"
     ]
    }
   ],
   "source": [
    "students.insert(2,'kaleem')\n",
    "print(students)"
   ]
  },
  {
   "cell_type": "code",
   "execution_count": 47,
   "id": "ffcbd694-f9f3-41a8-ada0-dd15e85b7ae5",
   "metadata": {},
   "outputs": [
    {
     "name": "stdout",
     "output_type": "stream",
     "text": [
      "kaleem\n"
     ]
    }
   ],
   "source": [
    "print(students[2])"
   ]
  },
  {
   "cell_type": "code",
   "execution_count": null,
   "id": "6c1bf945-faa2-4428-8ab1-efe84251afd0",
   "metadata": {},
   "outputs": [],
   "source": [
    "# interview questions: what is the diff btw append and insert methods in a list datatype........?"
   ]
  },
  {
   "cell_type": "code",
   "execution_count": 48,
   "id": "5ea6d963-0ab5-444d-9b01-e7b835f709fd",
   "metadata": {},
   "outputs": [
    {
     "name": "stdout",
     "output_type": "stream",
     "text": [
      "['arpita', 'ashwini', 'kaleem', 'asma', 'bhavan', 'david', 'kartik', 'shafi', 'venkat']\n"
     ]
    }
   ],
   "source": [
    "  print(students)"
   ]
  },
  {
   "cell_type": "code",
   "execution_count": null,
   "id": "0d38dc82-d6e9-42f9-9d0c-441b28014fe5",
   "metadata": {},
   "outputs": [],
   "source": [
    "# req i want to modify arpita name to anand...."
   ]
  },
  {
   "cell_type": "code",
   "execution_count": 49,
   "id": "045abe92-f017-4881-85d0-e767bb4e5c7d",
   "metadata": {},
   "outputs": [
    {
     "name": "stdout",
     "output_type": "stream",
     "text": [
      "['Anand', 'ashwini', 'kaleem', 'asma', 'bhavan', 'david', 'kartik', 'shafi', 'venkat']\n"
     ]
    }
   ],
   "source": [
    "students[0]=\"Anand\"\n",
    "print(students)"
   ]
  },
  {
   "cell_type": "code",
   "execution_count": null,
   "id": "0859b31f-6c94-4072-8870-fa3997cee421",
   "metadata": {},
   "outputs": [],
   "source": [
    "# req i want to delete ashwini name in the above list .....?"
   ]
  },
  {
   "cell_type": "code",
   "execution_count": 50,
   "id": "eb466854-6163-42c9-96da-15abf1f40652",
   "metadata": {},
   "outputs": [
    {
     "name": "stdout",
     "output_type": "stream",
     "text": [
      "['Anand', 'kaleem', 'asma', 'bhavan', 'david', 'kartik', 'shafi', 'venkat']\n"
     ]
    }
   ],
   "source": [
    "del students[1]\n",
    "print (students)"
   ]
  },
  {
   "cell_type": "code",
   "execution_count": null,
   "id": "b36396d5-f6f4-4caa-a1d4-94e7a959b679",
   "metadata": {},
   "outputs": [],
   "source": []
  }
 ],
 "metadata": {
  "kernelspec": {
   "display_name": "Python [conda env:base] *",
   "language": "python",
   "name": "conda-base-py"
  },
  "language_info": {
   "codemirror_mode": {
    "name": "ipython",
    "version": 3
   },
   "file_extension": ".py",
   "mimetype": "text/x-python",
   "name": "python",
   "nbconvert_exporter": "python",
   "pygments_lexer": "ipython3",
   "version": "3.13.5"
  }
 },
 "nbformat": 4,
 "nbformat_minor": 5
}
